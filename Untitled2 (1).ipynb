{
 "cells": [
  {
   "cell_type": "code",
   "execution_count": 1,
   "metadata": {},
   "outputs": [
    {
     "name": "stdout",
     "output_type": "stream",
     "text": [
      "Largest element is: 99\n"
     ]
    }
   ],
   "source": [
    "list1 = [10, 20, 4, 45, 99]  \n",
    "list1.sort() \n",
    "print(\"Largest element is:\", list1[-1])"
   ]
  },
  {
   "cell_type": "code",
   "execution_count": 2,
   "metadata": {},
   "outputs": [
    {
     "name": "stdout",
     "output_type": "stream",
     "text": [
      "Second largest element is: 45\n"
     ]
    }
   ],
   "source": [
    "list1 = [10, 20, 4, 45, 99]\n",
    "list1.sort()\n",
    "print(\"Second largest element is:\", list1[-2])"
   ]
  },
  {
   "cell_type": "code",
   "execution_count": 4,
   "metadata": {},
   "outputs": [
    {
     "name": "stdout",
     "output_type": "stream",
     "text": [
      "Enter number of elements:5\n",
      "Enter element:1\n",
      "Enter element:3\n",
      "Enter element:5\n",
      "Enter element:7\n",
      "Enter element:9\n",
      "Enter number of elements:3\n",
      "Enter element:2\n",
      "Enter element:5\n",
      "Enter element:6\n",
      "Sorted list is: [1, 2, 3, 5, 5, 6, 7, 9]\n"
     ]
    }
   ],
   "source": [
    "a=[]\n",
    "c=[]\n",
    "n1=int(input(\"Enter number of elements:\"))\n",
    "for i in range(1,n1+1):\n",
    "    b=int(input(\"Enter element:\"))\n",
    "    a.append(b)\n",
    "n2=int(input(\"Enter number of elements:\"))\n",
    "for i in range(1,n2+1):\n",
    "    d=int(input(\"Enter element:\"))\n",
    "    c.append(d)\n",
    "new=a+c\n",
    "new.sort()\n",
    "print(\"Sorted list is:\",new)"
   ]
  },
  {
   "cell_type": "code",
   "execution_count": 5,
   "metadata": {},
   "outputs": [
    {
     "name": "stdout",
     "output_type": "stream",
     "text": [
      "Enter the number of elements in list:6\n",
      "Enter element:1\n",
      "Enter element:3\n",
      "Enter element:4\n",
      "Enter element:5\n",
      "Enter element:6\n",
      "Enter element:7\n",
      "Your current list is: ['1', '3', '4', '5', '6', '7']\n",
      "New list is: ['7', '3', '4', '5', '6', '1']\n"
     ]
    }
   ],
   "source": [
    "list = []\n",
    "n = int(input(\"Enter the number of elements in list:\"))\n",
    "for x in range(0,n):\n",
    "    element=input(\"Enter element:\")\n",
    "    list.append(element)\n",
    "print(\"Your current list is:\",list)\n",
    "temp=list[0]\n",
    "list[0]=list[n-1]\n",
    "list[n-1]=temp\n",
    "print(\"New list is:\",list)\n"
   ]
  },
  {
   "cell_type": "code",
   "execution_count": null,
   "metadata": {},
   "outputs": [],
   "source": []
  }
 ],
 "metadata": {
  "kernelspec": {
   "display_name": "Python 3",
   "language": "python",
   "name": "python3"
  },
  "language_info": {
   "codemirror_mode": {
    "name": "ipython",
    "version": 3
   },
   "file_extension": ".py",
   "mimetype": "text/x-python",
   "name": "python",
   "nbconvert_exporter": "python",
   "pygments_lexer": "ipython3",
   "version": "3.8.3"
  }
 },
 "nbformat": 4,
 "nbformat_minor": 4
}
